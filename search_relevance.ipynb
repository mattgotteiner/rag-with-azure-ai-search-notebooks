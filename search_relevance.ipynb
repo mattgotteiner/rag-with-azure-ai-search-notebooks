{
 "cells": [
  {
   "cell_type": "markdown",
   "metadata": {},
   "source": [
    "# Azure AI Search: Relevance"
   ]
  },
  {
   "cell_type": "markdown",
   "metadata": {},
   "source": [
    "## Setup API clients"
   ]
  },
  {
   "cell_type": "code",
   "execution_count": 9,
   "metadata": {},
   "outputs": [],
   "source": [
    "import os\n",
    "\n",
    "import azure.identity\n",
    "import dotenv\n",
    "import openai\n",
    "from azure.search.documents import SearchClient\n",
    "from azure.search.documents.models import VectorizedQuery\n",
    "\n",
    "dotenv.load_dotenv()\n",
    "\n",
    "azure_credential = azure.identity.AzureDeveloperCliCredential(tenant_id=os.getenv(\"AZURE_TENANT_ID\"))\n",
    "\n",
    "# Initialize Azure OpenAI client\n",
    "AZURE_OPENAI_SERVICE = os.getenv(\"AZURE_OPENAI_SERVICE\")\n",
    "AZURE_OPENAI_ADA_DEPLOYMENT = os.getenv(\"AZURE_OPENAI_ADA_DEPLOYMENT\")\n",
    "\n",
    "token_provider = azure.identity.get_bearer_token_provider(azure_credential, \"https://cognitiveservices.azure.com/.default\")\n",
    "openai_client = openai.AzureOpenAI(\n",
    "    api_version=\"2023-07-01-preview\",\n",
    "    azure_endpoint=f\"https://{AZURE_OPENAI_SERVICE}.openai.azure.com\",\n",
    "    azure_ad_token_provider=token_provider)\n",
    "\n",
    "def get_embedding(text):\n",
    "    get_embeddings_response = openai_client.embeddings.create(model=AZURE_OPENAI_ADA_DEPLOYMENT, input=text)\n",
    "    return get_embeddings_response.data[0].embedding\n",
    "\n",
    "# Initialize Azure search client\n",
    "AZURE_SEARCH_SERVICE = os.getenv(\"AZURE_SEARCH_SERVICE\")\n",
    "AZURE_SEARCH_ENDPOINT = f\"https://{AZURE_SEARCH_SERVICE}.search.windows.net\"\n",
    "\n",
    "AZURE_SEARCH_FULL_INDEX = \"gptkbindex\"\n",
    "search_client = SearchClient(AZURE_SEARCH_ENDPOINT, AZURE_SEARCH_FULL_INDEX, credential=azure_credential)\n"
   ]
  },
  {
   "cell_type": "markdown",
   "metadata": {},
   "source": [
    "#### Vector search is not always optimal\n",
    "\n",
    "For example, consider searches for exact strings."
   ]
  },
  {
   "cell_type": "code",
   "execution_count": 10,
   "metadata": {},
   "outputs": [
    {
     "name": "stdout",
     "output_type": "stream",
     "text": [
      "Score: 0.52195\tMatching text: Not found\n",
      "Score: 0.52063\tMatching text: Not found\n",
      "Score: 0.52031\tMatching text: Not found\n"
     ]
    }
   ],
   "source": [
    "search_query = \"$45.00\"\n",
    "search_vector = get_embedding(search_query)\n",
    "r = search_client.search(None, top=3, vector_queries=[\n",
    "    VectorizedQuery(vector=search_vector, k_nearest_neighbors=50, fields=\"embedding\")])\n",
    "for doc in r:\n",
    "    found_content = \"Not found\"\n",
    "    if search_query.lower() in doc['content'].lower():\n",
    "        found_content = doc['content'][doc['content'].lower().find(search_query.lower()):].replace(\"\\n\", \" \")\n",
    "    print(f\"Score: {doc['@search.score']:.5f}\\tMatching text: {found_content}\")"
   ]
  },
  {
   "cell_type": "markdown",
   "metadata": {},
   "source": [
    "Compare to a text search for same query:"
   ]
  },
  {
   "cell_type": "code",
   "execution_count": 11,
   "metadata": {},
   "outputs": [
    {
     "name": "stdout",
     "output_type": "stream",
     "text": [
      "Score: 4.82338\tMatching text: $45.00</td><td>$55.00</td></tr><tr><td>Employee +1</td><td>$65.00</td><td>$71.00</td></tr><tr><td>Employee +2 or more</td><td>$78.00</td><td>$89.00</td></tr></table> Next Steps We hope that this information has been helpful in understanding the differences \n",
      "Score: 3.98890\tMatching text: Not found\n"
     ]
    }
   ],
   "source": [
    "r = search_client.search(search_query, top=3)\n",
    "for doc in r:\n",
    "    found_content = \"Not found\"\n",
    "    if search_query.lower() in doc['content'].lower():\n",
    "        found_content = doc['content'][doc['content'].lower().find(search_query.lower()):].replace(\"\\n\", \" \")\n",
    "    print(f\"Score: {doc['@search.score']:.5f}\\tMatching text: {found_content}\")"
   ]
  },
  {
   "cell_type": "markdown",
   "metadata": {},
   "source": [
    "#### Hybrid retrieval\n",
    "\n",
    "Uses RRF to combine vector and text results."
   ]
  },
  {
   "cell_type": "code",
   "execution_count": 12,
   "metadata": {},
   "outputs": [
    {
     "name": "stdout",
     "output_type": "stream",
     "text": [
      "Score: 0.01667\tMatching text: $45.00</td><td>$55.00</td></tr><tr><td>Employee +1</td><td>$65.00</td><td>$71.00</td></tr><tr><td>Employee +2 or more</td><td>$78.00</td><td>$89.00</td></tr></table> Next Steps We hope that this information has been helpful in understanding the differences \n",
      "Score: 0.01667\tMatching text: Not found\n",
      "Score: 0.01639\tMatching text: Not found\n",
      "Score: 0.01639\tMatching text: Not found\n",
      "Score: 0.01613\tMatching text: Not found\n",
      "Score: 0.01587\tMatching text: Not found\n",
      "Score: 0.01562\tMatching text: Not found\n",
      "Score: 0.01538\tMatching text: Not found\n",
      "Score: 0.01515\tMatching text: Not found\n",
      "Score: 0.01493\tMatching text: Not found\n",
      "Score: 0.01471\tMatching text: Not found\n",
      "Score: 0.01449\tMatching text: Not found\n"
     ]
    }
   ],
   "source": [
    "search_vector = get_embedding(search_query)\n",
    "r = search_client.search(search_query, top=15, vector_queries=[\n",
    "    VectorizedQuery(vector=search_vector, k_nearest_neighbors=10, fields=\"embedding\")])\n",
    "for doc in r:\n",
    "    found_content = \"Not found\"\n",
    "    if search_query in doc['content']:\n",
    "        found_content = doc['content'][doc['content'].find(search_query):].replace(\"\\n\", \" \")\n",
    "    print(f\"Score: {doc['@search.score']:.5f}\\tMatching text: {found_content}\")"
   ]
  },
  {
   "cell_type": "markdown",
   "metadata": {},
   "source": [
    "#### Hybrid ranking is not always optimal"
   ]
  },
  {
   "cell_type": "code",
   "execution_count": 13,
   "metadata": {},
   "outputs": [
    {
     "name": "stdout",
     "output_type": "stream",
     "text": [
      "Score: 0.02361\t\tContent:  Ask Northwind Health about any limitations or conditions that may be placed on the prior authorization. 5. Understand that certain services may not r\n",
      "Score: 0.02205\t\tContent: · Inpatient and respite care · Grief counseling and bereavement services In addition, Northwind Health Plus covers the costs of services that are rela\n",
      "Score: 0.02020\t\tContent: services and supplies, such as home dialysis machines, dialyzers, and other necessary supplies. In-network dialysis services are covered at 80% of the\n",
      "Score: 0.01889\t\tContent:  Members should be aware that some medical services may require pre- authorization before they can be approved, and that the clinical review process m\n",
      "Score: 0.01667\t\tContent: plans · Oversee all aspects of marketing, including digital marketing, public relations, advertising, and events · Monitor and analyze market trends, \n"
     ]
    }
   ],
   "source": [
    "search_query = \"learning about underwater activities\"\n",
    "search_vector = get_embedding(search_query)\n",
    "r = search_client.search(search_query, top=5, vector_queries=[\n",
    "    VectorizedQuery(vector=search_vector, k_nearest_neighbors=10, fields=\"embedding\")])\n",
    "for doc in r:\n",
    "    content = doc[\"content\"].replace(\"\\n\", \" \")[:150]\n",
    "    print(f\"Score: {doc['@search.score']:.5f}\\t\\tContent: {content}\")"
   ]
  },
  {
   "cell_type": "markdown",
   "metadata": {},
   "source": [
    "#### Hybrid + semantic reranking 🎉"
   ]
  },
  {
   "cell_type": "code",
   "execution_count": 14,
   "metadata": {},
   "outputs": [
    {
     "name": "stdout",
     "output_type": "stream",
     "text": [
      "Score: 0.01266\tReranker: 1.04293\tContent:  Exceptions: In certain circumstances, Northwind Health Plus may use or disclose your PHI without your authorization. These exceptions include: • Disc\n",
      "Score: 0.01471\tReranker: 0.92170\tContent:  This includes any use or disclosure that is not for treatment, payment, or health care operations. Examples of non- health care uses and disclosures \n",
      "Score: 0.01389\tReranker: 0.82174\tContent:  It is designed to help individuals with disabilities learn the skills they need to live as independently as possible, including communication, proble\n",
      "Score: 0.01667\tReranker: 0.80048\tContent: plans · Oversee all aspects of marketing, including digital marketing, public relations, advertising, and events · Monitor and analyze market trends, \n",
      "Score: 0.01515\tReranker: 0.64876\tContent:  Some of the goals of habilitation services may include improving the individual's ability to communicate, learning how to use adaptive equipment, imp\n"
     ]
    }
   ],
   "source": [
    "search_query = \"learning about underwater activities\"\n",
    "search_vector = get_embedding(search_query)\n",
    "r = search_client.search(\n",
    "        search_query,\n",
    "        top=5, \n",
    "        vector_queries=[\n",
    "                VectorizedQuery(vector=search_vector, k_nearest_neighbors=50, fields=\"embedding\")],\n",
    "        query_type=\"semantic\",\n",
    "        semantic_configuration_name=\"default\")\n",
    "\n",
    "for doc in r:\n",
    "    content = doc[\"content\"].replace(\"\\n\", \" \")[:150]\n",
    "    print(f\"Score: {doc['@search.score']:.5f}\\tReranker: {doc['@search.reranker_score']:.5f}\\tContent: {content}\")"
   ]
  }
 ],
 "metadata": {
  "kernelspec": {
   "display_name": "Python 3",
   "language": "python",
   "name": "python3"
  },
  "language_info": {
   "codemirror_mode": {
    "name": "ipython",
    "version": 3
   },
   "file_extension": ".py",
   "mimetype": "text/x-python",
   "name": "python",
   "nbconvert_exporter": "python",
   "pygments_lexer": "ipython3",
   "version": "3.11.11"
  },
  "orig_nbformat": 4
 },
 "nbformat": 4,
 "nbformat_minor": 2
}
