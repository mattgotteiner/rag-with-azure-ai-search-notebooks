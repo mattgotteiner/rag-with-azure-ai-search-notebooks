{
 "cells": [
  {
   "cell_type": "markdown",
   "metadata": {},
   "source": [
    "# Retrieval Augmented Generation"
   ]
  },
  {
   "cell_type": "markdown",
   "metadata": {},
   "source": [
    "## Setup API clients"
   ]
  },
  {
   "cell_type": "code",
   "execution_count": 7,
   "metadata": {},
   "outputs": [],
   "source": [
    "import os\n",
    "\n",
    "import azure.identity\n",
    "import dotenv\n",
    "import openai\n",
    "from azure.search.documents import SearchClient\n",
    "from azure.search.documents.models import VectorizedQuery\n",
    "\n",
    "dotenv.load_dotenv()\n",
    "\n",
    "azure_credential = azure.identity.AzureDeveloperCliCredential(tenant_id=os.getenv(\"AZURE_TENANT_ID\"))\n",
    "\n",
    "# Initialize Azure OpenAI client\n",
    "AZURE_OPENAI_SERVICE = os.getenv(\"AZURE_OPENAI_SERVICE\")\n",
    "AZURE_OPENAI_ADA_DEPLOYMENT = os.getenv(\"AZURE_OPENAI_ADA_DEPLOYMENT\")\n",
    "\n",
    "token_provider = azure.identity.get_bearer_token_provider(azure_credential, \"https://cognitiveservices.azure.com/.default\")\n",
    "openai_client = openai.AzureOpenAI(\n",
    "    api_version=\"2023-07-01-preview\",\n",
    "    azure_endpoint=f\"https://{AZURE_OPENAI_SERVICE}.openai.azure.com\",\n",
    "    azure_ad_token_provider=token_provider)\n",
    "\n",
    "def get_embedding(text):\n",
    "    get_embeddings_response = openai_client.embeddings.create(model=AZURE_OPENAI_ADA_DEPLOYMENT, input=text)\n",
    "    return get_embeddings_response.data[0].embedding\n",
    "\n",
    "# Initialize Azure search client\n",
    "AZURE_SEARCH_SERVICE = os.getenv(\"AZURE_SEARCH_SERVICE\")\n",
    "AZURE_SEARCH_ENDPOINT = f\"https://{AZURE_SEARCH_SERVICE}.search.windows.net\"\n",
    "\n",
    "AZURE_SEARCH_FULL_INDEX = \"gptkbindex\"\n",
    "search_client = SearchClient(AZURE_SEARCH_ENDPOINT, AZURE_SEARCH_FULL_INDEX, credential=azure_credential)\n"
   ]
  },
  {
   "cell_type": "markdown",
   "metadata": {},
   "source": [
    "## Prepare user question"
   ]
  },
  {
   "cell_type": "code",
   "execution_count": 8,
   "metadata": {},
   "outputs": [],
   "source": [
    "user_question = \"What does a sales manager do?\"\n",
    "user_question_vector = get_embedding(user_question)"
   ]
  },
  {
   "cell_type": "markdown",
   "metadata": {},
   "source": [
    "## Retrieve matching documents\n",
    "\n",
    "The search call below does a **hybrid search**, performing both a full-text search and a vector search in parallel.\n",
    "It merges those results using Reciprocal Rank Fusion (RRF). \n",
    "Finally, it re-ranks the merged results using the AI Search semantic ranker, a re-ranking model."
   ]
  },
  {
   "cell_type": "code",
   "execution_count": 9,
   "metadata": {},
   "outputs": [
    {
     "name": "stdout",
     "output_type": "stream",
     "text": [
      "[role_library-23.pdf]: \n",
      "Manager of Sales\n",
      "Job Title: Manager of Sales, Contoso Electronics\n",
      "Job Summary:\n",
      "The Manager of Sales will be responsible for leading, managing and motivating the sales team to exceed sales objectives and targets. This person will also be in charge of developing and implementing successful sales strategies, analyzing sales and market data, and continuously evaluating the performance of the sales team and sales processes.\n",
      "Responsibilities: \n",
      "\n",
      "\n",
      "[role_library-24.pdf]: · Lead, manage, and motivate the sales team to ensure that targets and objectives are met.\n",
      "· Develop and implement successful sales strategies and processes.\n",
      "· Analyze sales and market data in order to identify trends, opportunities, and areas for\n",
      "improvement.\n",
      "· Develop and maintain relationships with key customers and vendors.\n",
      "· Ensure that all sales activities are conducted in accordance with company policies and procedures.\n",
      "· Monitor sales team performance and provide regular feedback and coaching.\n",
      "· Develop and manage the sales budget.\n",
      "· Develop and implement sales plans and forecasts.\n",
      "· Monitor competitor activity and adjust sales strategy accordingly.\n",
      "· Ensure that all customer inquiries and complaints are addressed in a timely manner.\n",
      "Qualifications:\n",
      "· Bachelor's degree in business, marketing, or a related field.\n",
      "· At least 5 years of experience in sales management.\n",
      "· Excellent communication, negotiation, and interpersonal skills.\n",
      "· Ability to analyze sales and market data.\n",
      "· Strong leadership and organizational skills.\n",
      "\n",
      "\n",
      "[role_library-17.pdf]:  The Senior Manager of Sales will work closely with the executive team to develop strategic business plans, ensure customer satisfaction, and oversee the execution of sales initiatives. The Senior Manager of Sales is responsible for developing and implementing strategies to grow sales and achieve top-line revenue goals.\n",
      "Responsibilities and Duties:\n",
      "· Lead the development, implementation, and execution of sales plans to achieve top-line revenue objectives\n",
      "· Analyze sales data and market trends to identify key opportunities and develop strategies to capitalize on them\n",
      "· Develop and oversee sales teams to ensure performance goals are met\n",
      "· Monitor team performance and provide coaching and guidance as needed\n",
      "· Develop and maintain relationships with key customers\n",
      "· Develop and execute promotional activities, including trade shows and marketing campaigns\n",
      "· Negotiate and manage sales contracts\n",
      "· Establish and maintain strong relationships with vendors\n",
      "· Ensure compliance with all applicable laws and regulations\n",
      "· Assess and update sales policies and procedures as needed\n",
      "Qualifications:\n",
      "· Bachelor's degree in business or a related field \n",
      "\n",
      "\n",
      "[role_library-12.pdf]: \n",
      "Responsibilities:\n",
      "· Develop and implement marketing strategies to drive sales and customer engagement\n",
      "· Manage a team of marketing professionals and ensure that tasks are completed on time \n",
      "\n",
      "\n",
      "[role_library-17.pdf]: Qualifications:\n",
      "- Bachelor's degree in Business Administration, Marketing or related field\n",
      "- 5+ years of product management experience\n",
      "- Proven track record of successful product launches and management - Strong market analysis and research skills\n",
      "- Strong leadership, communication and interpersonal skills\n",
      "- Ability to work independently and manage multiple projects simultaneously - Proficient in Microsoft Office applications and project management software\n",
      "- Experience with product life cycle management and product roadmaps\n",
      "- Knowledge of product development processes and the latest industry trends\n",
      "Senior Manager of Sales\n",
      "Job Description Position: Senior Manager of Sales for Contoso Electronics\n",
      "Job Summary:\n",
      "The Senior Manager of Sales for Contoso Electronics is responsible for the overall direction and management of the company's sales operations. The Senior Manager of Sales will work closely with the executive team to develop strategic business plans, ensure customer satisfaction, and oversee the execution of sales initiatives.\n",
      "\n"
     ]
    }
   ],
   "source": [
    "r = search_client.search(\n",
    "        user_question,\n",
    "        top=5, \n",
    "        vector_queries=[\n",
    "                VectorizedQuery(vector=user_question_vector, k_nearest_neighbors=50, fields=\"embedding\")],\n",
    "        query_type=\"semantic\",\n",
    "        semantic_configuration_name=\"default\")\n",
    "\n",
    "sources = \"\\n\\n\".join([f\"[{doc['sourcepage']}]: {doc['content']}\\n\" for doc in r])\n",
    "\n",
    "print(sources)"
   ]
  },
  {
   "cell_type": "markdown",
   "metadata": {},
   "source": [
    "## Send question and documents to the model"
   ]
  },
  {
   "cell_type": "code",
   "execution_count": 10,
   "metadata": {},
   "outputs": [
    {
     "name": "stdout",
     "output_type": "stream",
     "text": [
      "A sales manager is responsible for leading, managing, and motivating a sales team to exceed sales objectives and targets. They develop and implement sales strategies, analyze sales and market data, and evaluate the performance of the sales team. Other responsibilities include developing and maintaining relationships with key customers and vendors, managing the sales budget, and monitoring competitor activity to adjust the sales strategy accordingly [role_library-23.pdf] [role_library-24.pdf].\n"
     ]
    }
   ],
   "source": [
    "SYSTEM_MESSAGE = \"\"\"\n",
    "Assistant helps company employees questions about the employee handbook. Be brief in your answers.\n",
    "Answer ONLY with the facts listed in the list of sources below.\n",
    "If there isn't enough information below, say you don't know. Do not generate answers that don't use the sources below.\n",
    "Each source has a name followed by colon and the actual information, include the source name for each fact you use.\n",
    "Use square brackets to reference the source, for example [info1.txt].\n",
    "\"\"\"\n",
    "USER_MESSAGE = user_question + \"\\nSources: \" + sources\n",
    "\n",
    "# Now we can use the matches to generate a response\n",
    "response = openai_client.chat.completions.create(\n",
    "    model=os.getenv(\"AZURE_OPENAI_DEPLOYMENT_NAME\"),\n",
    "    temperature=1,\n",
    "    messages=[\n",
    "        {\"role\": \"system\", \"content\": SYSTEM_MESSAGE},\n",
    "        {\"role\": \"user\", \"content\": USER_MESSAGE},\n",
    "    ],\n",
    ")\n",
    "\n",
    "answer = response.choices[0].message.content\n",
    "print(answer)"
   ]
  }
 ],
 "metadata": {
  "kernelspec": {
   "display_name": "Python 3",
   "language": "python",
   "name": "python3"
  },
  "language_info": {
   "codemirror_mode": {
    "name": "ipython",
    "version": 3
   },
   "file_extension": ".py",
   "mimetype": "text/x-python",
   "name": "python",
   "nbconvert_exporter": "python",
   "pygments_lexer": "ipython3",
   "version": "3.11.11"
  }
 },
 "nbformat": 4,
 "nbformat_minor": 2
}
